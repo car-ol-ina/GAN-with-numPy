{
 "cells": [
  {
   "cell_type": "code",
   "execution_count": 1,
   "metadata": {},
   "outputs": [],
   "source": [
    "import numpy as np\n",
    "import math as mat\n",
    "import random\n",
    "import matplotlib.pyplot as plt\n",
    "import matplotlib.image as mpimg\n",
    "from mpl_toolkits.mplot3d import Axes3D\n",
    "from functools import reduce\n",
    "from pathlib import Path\n",
    "import imageio\n",
    "from scipy.stats import wasserstein_distance\n",
    "#%matplotlib notebook\n",
    "#from sympy import *\n",
    "#plt.rcParams['figure.figsize']=(5,3)\n",
    "#plt.rcParams['figure.dpi'] = 150"
   ]
  },
  {
   "cell_type": "code",
   "execution_count": 2,
   "metadata": {},
   "outputs": [],
   "source": [
    "def sigmoid(x):\n",
    "    return 1./(1. + np.exp(-x))\n",
    "\n",
    "\n",
    "def dsigmoid(x):\n",
    "    y = sigmoid(x)\n",
    "    return y * (1. - y)\n",
    "\n",
    "\n",
    "def dtanh(x):\n",
    "    return 1. - np.tanh(x) ** 2\n",
    "\n",
    "\n",
    "def lrelu(x, alpha=1e-2):\n",
    "    return np.maximum(x, x * alpha)\n",
    "\n",
    "\n",
    "def dlrelu(x, alpha=1e-2):\n",
    "    dx = np.ones_like(x)\n",
    "    dx[x < 0] = alpha\n",
    "    return dx"
   ]
  },
  {
   "cell_type": "code",
   "execution_count": 3,
   "metadata": {},
   "outputs": [],
   "source": [
    "#Data Generation\n",
    "\n",
    "m = 2000\n",
    "#X = np.random.normal(0,1,size=[m, 1])\n",
    "X = np.random.uniform(0,1,(m, 1))\n",
    "\n",
    "dataset = np.random.beta(0.5,0.5, size=[m,1])\n",
    "#dataset = np.tanh(-5*lrelu(1*X+0)-5*lrelu(-1*X+0)+2)\n",
    "\n",
    "#dataset = np.random.normal(10,1,size=[m,1])\n",
    "\n",
    "#dataset = 5* lrelu(1*X - 0.6) - 5*lrelu(-1*X + 0.4) + 10\n",
    "\n",
    "#dataset = 8*lrelu(1*X - 0.7,0) - 8*lrelu(-1*X + 0.3,0) + 10\n",
    "\n",
    "#dataset = -3.5*lrelu(1*X-0.5,0) - 3.5*lrelu(0.5-1*X,0) + 3.5*lrelu(-2*X+0.5,0) \n",
    "\n",
    "#dataset =  10/9* lrelu(1*X - 0.55,0) - 10/9*lrelu(-1*X + 0.45,0) + 2.5*lrelu(1*X - 0.8,0) - 2.5*lrelu(-1*X + 0.2,0)\n",
    "\n",
    "\n",
    "\n",
    "def NormOnData(X):\n",
    "    return (X - np.min(dataset))/(np.max(dataset)-np.min(dataset) + 1e-8)\n",
    "\n",
    "def dNormOnData(X):\n",
    "    return 1/(np.max(dataset)-np.min(dataset) + 1e-8)\n",
    "\n",
    "def NormOnDataset2(X):\n",
    "    return (np.max(dataset)-np.min(dataset))*(X-np.min(X))/(np.max(X)-np.min(X) + 1e-8) + np.min(dataset)\n",
    "\n",
    "\n",
    "def dNormOnDataset(X):\n",
    "    return (np.max(dataset)-np.min(dataset))/(np.max(X)-np.min(X) + 1e-8) \n",
    "\n",
    "\n",
    "def MinMaxN(X):\n",
    "    return (X-np.min(X))/(np.max(X)-np.min(X) + 1e-8)\n",
    "\n",
    "\n",
    "def dMinMaxN(X):\n",
    "    return 1/(np.max(X)-np.min(X)+1e-8)\n"
   ]
  },
  {
   "cell_type": "code",
   "execution_count": 14,
   "metadata": {},
   "outputs": [],
   "source": [
    "m = 3000\n",
    "cluster1 = np.random.normal(0,1, size=[2*m//3,1])\n",
    "cluster2 = np.random.normal(5,1, size=[m//3,1])\n",
    "\n",
    "dataset = np.concatenate((cluster1,cluster2))\n"
   ]
  },
  {
   "cell_type": "code",
   "execution_count": 15,
   "metadata": {},
   "outputs": [
    {
     "data": {
      "image/png": "[encoded data removed]",
      "text/plain": [
       "<Figure size 432x288 with 1 Axes>"
      ]
     },
     "metadata": {
      "needs_background": "light"
     },
     "output_type": "display_data"
    }
   ],
   "source": [
    "#Data set visualization\n",
    "plt.hist(dataset, bins='auto', label='Real Distribution')\n",
    "plt.legend(loc='upper right')\n",
    "plt.show()"
   ]
  },
  {
   "cell_type": "code",
   "execution_count": 16,
   "metadata": {},
   "outputs": [
    {
     "data": {
      "image/png": "[encoded data removed]",
      "text/plain": [
       "<Figure size 432x288 with 1 Axes>"
      ]
     },
     "metadata": {
      "needs_background": "light"
     },
     "output_type": "display_data"
    }
   ],
   "source": [
    "#Normalized Data visualization\n",
    "plt.hist(MinMaxN(dataset), bins='auto', label='Real data normalized')\n",
    "plt.legend(loc='upper right')\n",
    "plt.show()"
   ]
  },
  {
   "cell_type": "code",
   "execution_count": 6,
   "metadata": {},
   "outputs": [],
   "source": [
    "def initiate_parameters(nx_g, nh_g, inp_size, nh_d):\n",
    "    \n",
    "    # -------- Generator --------#\n",
    "    W0_g = np.random.randn(nx_g, nh_g)* np.sqrt(2./nx_g)\n",
    "    #W0_g = np.random.randn(nx_g, nh_g)\n",
    "    b0_g = np.zeros((1, nh_g))\n",
    "    #b0_g = np.random.normal(0,1,(1, nh_g))\n",
    "    #b0_b = np.array([[2,-9]])\n",
    "\n",
    "    W1_g = np.random.randn(nh_g, inp_size)* np.sqrt(2. / nh_g)\n",
    "    #W1_g = np.random.randn(nh_g, inp_size)\n",
    "    b1_g = np.zeros((1, inp_size))\n",
    "    #b1_g = np.random.normal(0,1,(1, inp_size))\n",
    "\n",
    "\n",
    "    W_g = [W0_g, W1_g]\n",
    "    b_g = [b0_g, b1_g]\n",
    "\n",
    "    # -------- Discriminator --------#\n",
    "    W0_d = np.random.randn(inp_size, nh_d)* np.sqrt(2. / inp_size) \n",
    "    #W0_d = np.random.randn(inp_size, nh_d)\n",
    "    #b0_d = np.random.randn(1, nh_d)\n",
    "    b0_d = np.zeros((1,nh_d))\n",
    "\n",
    "    W1_d = np.random.randn(nh_d, 1)* np.sqrt(2. / nh_d)\n",
    "    #W1_d = np.random.randn(nh_d, 1)\n",
    "    #b1_d = np.random.randn(1, 1)\n",
    "    b1_d = np.zeros((1, 1))\n",
    "\n",
    "    \n",
    "    W_d = [W0_d, W1_d]\n",
    "    b_d = [b0_d, b1_d]\n",
    "    \n",
    "\n",
    "    return W_g, b_g, W_d, b_d"
   ]
  },
  {
   "cell_type": "code",
   "execution_count": 7,
   "metadata": {},
   "outputs": [],
   "source": [
    "def forward_generator(z, W_g, b_g):\n",
    "    z_g = []\n",
    "    a_g = []\n",
    "    \n",
    "    z0_g = np.dot(z, W_g[0]) + b_g[0]\n",
    "    z_g.append(z0_g)\n",
    "    #a0_g = sigmoid(z0_g)\n",
    "    a0_g = lrelu(z0_g)\n",
    "    a_g.append(a0_g)\n",
    "\n",
    "    z1_g = np.dot(a0_g, W_g[1]) + b_g[1]\n",
    "    z_g.append(z1_g)\n",
    "    \n",
    "    #a1_g = MinMaxN(z1_g)\n",
    "    #a1_g = NormOnData(z1_g)\n",
    "    #a1_g = np.tanh(z1_g)\n",
    "    #a1_g = lrelu(z1_g)\n",
    "    a1_g = sigmoid(z1_g)\n",
    "    #a1_g = z1_g\n",
    "    a_g.append(a1_g)\n",
    "\n",
    "    return z_g, a_g\n",
    "\n",
    "\n",
    "def forward_discriminator(x, W_d, b_d):\n",
    "    z_d = []\n",
    "    a_d = []\n",
    "    \n",
    "    z0_d = np.dot(x, W_d[0]) + b_d[0]\n",
    "    z_d.append(z0_d)\n",
    "    #a0_d = sigmoid(z0_d)\n",
    "    a0_d = lrelu(z0_d)\n",
    "    a_d.append(a0_d)\n",
    "\n",
    "    z1_d = np.dot(a0_d, W_d[1]) + b_d[1]\n",
    "    z_d.append(z1_d)\n",
    "    #a1_d = sigmoid(z1_d)  \n",
    "    a1_d = z1_d\n",
    "    #a1_d = lrelu(z1_d)\n",
    "    a_d.append(a1_d)\n",
    "    return z_d, a_d"
   ]
  },
  {
   "cell_type": "code",
   "execution_count": 8,
   "metadata": {},
   "outputs": [],
   "source": [
    "def preprocess_data(x, batch_size):\n",
    "     \n",
    "    \n",
    "    x_train = np.reshape(x, (len(x),-1))\n",
    "    x_train = MinMaxN(x_train)\n",
    "\n",
    "    # limit the data to full batches only\n",
    "    num_batches = x_train.shape[0] // batch_size\n",
    "    x_train = x_train[: num_batches * batch_size]\n",
    "    #x_train = MinMaxN(x_train)\n",
    "\n",
    "    # normalise the data to the range [-1,1] = [a,b]\n",
    "    # X' = a + (b-a)(X-Xmin)/(Xmax-Xmin)\n",
    "    #x_train = -1+2*(x_train-x_train.min())/(x_train.max()-x_train.min())\n",
    "\n",
    "    # shuffle the data\n",
    "    idx = np.random.permutation(len(x_train))\n",
    "    x_train = x_train[idx]\n",
    "    return x_train, num_batches"
   ]
  },
  {
   "cell_type": "code",
   "execution_count": 9,
   "metadata": {},
   "outputs": [],
   "source": [
    "def shuffle_data(x_train):\n",
    "    idx = np.random.permutation(len(x_train))\n",
    "    x_train = x_train[idx]\n",
    "    return x_train"
   ]
  },
  {
   "cell_type": "code",
   "execution_count": 10,
   "metadata": {},
   "outputs": [],
   "source": [
    "def backpropagation_D(x_real, a_real, z_real, x_fake, a_fake, z_fake, W_d, der_activation):\n",
    "    \n",
    "    m_r = len(x_real)\n",
    "    m_f = len(x_fake)\n",
    "    \n",
    "    a1_real = a_real[-1]\n",
    "    a0_dr = a_real[0]\n",
    "    z1_real = z_real[-1]\n",
    "    z0_dr = z_real[0]\n",
    "    \n",
    "    a1_fake = a_fake[-1]\n",
    "    a0_df = a_fake[0]\n",
    "    z1_fake = z_fake[-1]\n",
    "    z0_df = z_fake[0]\n",
    "    \n",
    "    # cost_D = - np.mean(a_d_real[-1]) + np.mean(a_d_fake[-1])\n",
    "    \n",
    "    #real input cost derivative = -1         \n",
    "    da1_real = -1.*np.ones(a1_real.shape)\n",
    "\n",
    "    #dz1_real = da1_real * dsigmoid(z1_real)\n",
    "    dz1_real = da1_real\n",
    "    #dz1_real = da1_real * dlrelu(z1_real)\n",
    "    dW1_real = np.dot(a0_dr.T, dz1_real)\n",
    "    db1_real = np.sum(dz1_real, axis=0, keepdims=True)\n",
    "\n",
    "    da0_real = np.dot(dz1_real, W_d[1].T)\n",
    "    dz0_real = da0_real * der_activation(z0_dr)    \n",
    "    dW0_real = np.dot(x_real.T, dz0_real)\n",
    "    db0_real = np.sum(dz0_real, axis=0, keepdims=True)\n",
    "        \n",
    "    # fake input cost derivative =  1.\n",
    "    da1_fake = 1.*np.ones(a1_fake.shape)\n",
    "\n",
    "    #dz1_fake = da1_fake * dsigmoid(z1_fake)\n",
    "    dz1_fake = da1_fake \n",
    "    #dz1_fake = da1_fake * dlrelu(z1_real)\n",
    "    dW1_fake = np.dot(a0_df.T, dz1_fake)\n",
    "    db1_fake = np.sum(dz1_fake, axis=0, keepdims=True)\n",
    "\n",
    "    da0_fake = np.dot(dz1_fake, W_d[1].T)\n",
    "    dz0_fake = da0_fake * der_activation(z0_df)\n",
    "    dW0_fake = np.dot(x_fake.T, dz0_fake)\n",
    "    db0_fake = np.sum(dz0_fake, axis=0, keepdims=True)\n",
    "\n",
    "    # -------- Combine gradients for real & fake images--------#\n",
    "    dW1 = dW1_real + dW1_fake\n",
    "    db1 = db1_real + db1_fake\n",
    "\n",
    "    dW0 = dW0_real + dW0_fake\n",
    "    db0 = db0_real + db0_fake\n",
    "    \n",
    "    return dW0, db0, dW1, db1"
   ]
  },
  {
   "cell_type": "code",
   "execution_count": 11,
   "metadata": {},
   "outputs": [],
   "source": [
    "def backpropagation_G(z, a_d, z_d, a_g, z_g, W_d, W_g, der_activation_D, der_activation_G):\n",
    "    \n",
    "    m_f = len(z)\n",
    "    \n",
    "    a1_fake = a_d[-1]\n",
    "    z1_fake = z_d[-1]\n",
    "    z0_d = z_d[0]\n",
    "    \n",
    "    z1_g = z_g[-1]\n",
    "    a0_g = a_g[0]\n",
    "    z0_g = z_g[0]\n",
    "\n",
    "    # -------- Backprop through Discriminator --------#\n",
    "    # cost_D = np.mean(a_d_real[-1]) - np.mean(a_d_fake[-1])\n",
    "\n",
    "    # fake input derivative = -1.\n",
    "    da1_d = -1.* np.ones(a1_fake.shape)\n",
    "\n",
    "    #dz1_d = da1_d * dsigmoid(z1_fake)\n",
    "    dz1_d = da1_d\n",
    "    #dz1_d = da1_d * dlrelu(z1_fake)\n",
    "    da0_d = np.dot(dz1_d, W_d[1].T)\n",
    "    dz0_d = da0_d * der_activation_D(z0_d)\n",
    "    dx_d = np.dot(dz0_d, W_d[0].T)\n",
    "\n",
    "    # -------- Backprop through Generator --------#\n",
    "    \n",
    "    #dz1_g = dx_d\n",
    "    dz1_g = dx_d * dsigmoid(z1_g)\n",
    "    #dz1_g = dx_d * dtanh(z1_g)\n",
    "    #dz1_g = dx_d * dlrelu(z1_g)\n",
    "    #dz1_g = dx_d * dMinMaxN(z1_g)\n",
    "    #dz1_g = dx_d * dNormOnData(z1_g)\n",
    "    dW1_g = np.dot(a0_g.T, dz1_g)\n",
    "    db1_g = np.sum(dz1_g, axis=0, keepdims=True)\n",
    "    #db1_g = 0\n",
    "\n",
    "    da0_g = np.dot(dz1_g, W_g[1].T)\n",
    "    dz0_g = da0_g * der_activation_G(z0_g)\n",
    "    dW0_g = np.dot(z.T, dz0_g)\n",
    "    db0_g = np.sum(dz0_g, axis=0, keepdims=True)\n",
    "    \n",
    "    return dW0_g, db0_g, dW1_g, db1_g"
   ]
  },
  {
   "cell_type": "code",
   "execution_count": 19,
   "metadata": {},
   "outputs": [],
   "source": [
    "J_Ds = []  # stores the disciminator losses\n",
    "J_Gs = []  # stores the generator losses\n",
    "\n",
    "beta = 0.01\n",
    "epochs = 1000\n",
    "batch_size = 100\n",
    "nx_g = 10#input_layer_size_g\n",
    "nh_g = 20 #hidden_layer_size_g\n",
    "nh_d = 20 #hidden_layer_size_d\n",
    "#input_layer_d = inp_size\n",
    "#output_layer_d = 1\n",
    "#output_layer_g = inp_size\n",
    "\n",
    "ncritic = 10\n",
    "c = 0.5\n",
    "lr = 3e-3 #learning_rate\n",
    "dr = 0e-4 #decay_rate\n",
    "inp_size = len(dataset[0])\n",
    "\n",
    "    \n",
    "    # -------- Initialise weights with Xavier method --------#\n",
    "W_g, b_g, W_d, b_d = initiate_parameters(nx_g, nh_g, inp_size, nh_d)\n",
    "#W_g, b_g, _, _ = initiate_parameters(nx_g, nh_g, inp_size, nh_d)\n",
    "    \n",
    "\n",
    "#preprocess input -note that labels aren't needed\n",
    "x_train, num_batches = preprocess_data(dataset, batch_size)\n",
    "\n",
    "#moving average intialization\n",
    "Sw_g = [np.zeros(W_g[0].shape), np.zeros(W_g[1].shape)]\n",
    "Sb_g = [np.zeros(b_g[0].shape), np.zeros(b_g[1].shape)]\n",
    "Sw_g_track = [Sw_g]\n",
    "Sb_g_track = [Sb_g]\n",
    "\n",
    "\n",
    "#moving average intialization\n",
    "Sw_d = [np.zeros(W_d[0].shape), np.zeros(W_d[1].shape)]\n",
    "Sb_d = [np.zeros(b_d[0].shape), np.zeros(b_d[1].shape)]\n",
    "Sw_d_track = [Sw_d]\n",
    "Sb_d_track = [Sb_d]\n",
    "\n",
    "    \n",
    "W_d_track = [W_d]\n",
    "b_d_track = [b_d]\n",
    "W_g_track = [W_g]\n",
    "b_g_track = [b_g]\n",
    "x_fake_track = []\n",
    "dW_track = []\n",
    "EM_dist = []\n",
    "\n",
    "\n",
    "for epoch in range(epochs):\n",
    "    #lr = 1/(50*epoch)\n",
    "    lrG = 1*lr\n",
    "    \n",
    "    if epoch%(num_batches//ncritic)==0:\n",
    "        x_train = shuffle_data(x_train)\n",
    "    \n",
    "    \n",
    "    for n in range(ncritic):\n",
    "        i = n + (epoch%(num_batches//ncritic))*ncritic\n",
    "               \n",
    "        # ------- PREPARE INPUT BATCHES & NOISE -------#\n",
    "        x_real = x_train[i * batch_size: (i + 1) * batch_size]\n",
    "        z = np.random.uniform(0,1, (batch_size, nx_g))\n",
    "        \n",
    "        \n",
    "        # ------- FORWARD PROPAGATION -------#\n",
    "        z_g, a_g = forward_generator(z, W_g, b_g)\n",
    "        x_fake = a_g[-1]\n",
    "        z_d_real, a_d_real = forward_discriminator(x_real, W_d, b_d)\n",
    "        z_d_fake, a_d_fake = forward_discriminator(x_fake, W_d, b_d)\n",
    "            \n",
    "            \n",
    "        # Discriminator backpropagation\n",
    "        dW0, db0, dW1, db1 = backpropagation_D(x_real, a_d_real, z_d_real, x_fake, a_d_fake, z_d_fake, W_d, dlrelu)\n",
    "\n",
    "        \n",
    "        # --- Update through SGD ---#\n",
    "        \n",
    "        #W_d = [W_d[0] - lr * dW0, W_d[1] - lr * dW1]\n",
    "        #b_d = [b_d[0] - lr * db0, b_d[1] - lr * db1]\n",
    "        \n",
    "        # --- Update through RMSprop --- #\n",
    "           \n",
    "        Sw_d = [beta*Sw_d[0]+(1-beta)*(dW0**2), beta*Sw_d[1]+(1-beta)*(dW1**2)]\n",
    "        Sb_d = [beta*Sb_d[0]+(1-beta)*(db0**2), beta*Sb_d[1]+(1-beta)*(db1**2)]\n",
    "            \n",
    "        Sw_d_track.append(Sw_d)\n",
    "        Sb_d_track.append(Sb_d)\n",
    "        \n",
    "        W_d = [W_d[0] - (lr * dW0)/(np.sqrt(Sw_d[0]+1e-8)), W_d[1] - (lr * dW1)/(np.sqrt(Sw_d[1]+1e-8))]\n",
    "        b_d = [b_d[0] - (lr * db0)/(np.sqrt(Sb_d[0]+1e-8)), b_d[1] - (lr * db1)/(np.sqrt(Sb_d[1]+1e-8))]\n",
    "        \n",
    "             \n",
    "        #clipping\n",
    "        W_d = [np.clip(w,-c,c) for w in W_d]\n",
    "        b_d = [np.clip(w,-c,c) for w in b_d]\n",
    "        \n",
    "    # ------- WASSERSTEIN LOSS -------#\n",
    "    J_D = np.mean(a_d_real[-1]) - np.mean(a_d_fake[-1])\n",
    "    J_Ds.append(J_D)\n",
    "    \n",
    "    r_dis = np.reshape(x_real, (len(x_real),))\n",
    "    f_dis = np.reshape(x_fake, (len(x_fake),))\n",
    "    \n",
    "    \n",
    "    EM_dist.append(wasserstein_distance(r_dis, f_dis))\n",
    "    \n",
    "    \n",
    "    # Generator backpropagation \n",
    "        \n",
    "    #z = np.random.uniform(0,1, (batch_size, nx_g))\n",
    "    #z_g, a_g = forward_generator(z, W_g, b_g)\n",
    "    #x_fake = a_g[-1]\n",
    "    #z_d_fake, a_d_fake = forward_discriminator(x_fake, W_d, b_d)\n",
    "    J_G = -np.mean(a_d_fake[-1])\n",
    "    J_Gs.append(J_G)\n",
    "       \n",
    "    dW0_g, db0_g, dW1_g, db1_g = backpropagation_G(z, a_d_fake, z_d_fake, a_g, z_g, W_d, W_g, dlrelu, dlrelu)\n",
    "        \n",
    "        \n",
    "    # ---Update through SGD ---#\n",
    "        \n",
    "    #W_g = [W_g[0] - lrG * dW0_g, W_g[1] - lrG * dW1_g]\n",
    "    #b_g = [b_g[0] - lrG * db0_g, b_g[1] - lrG * db1_g]\n",
    "        \n",
    "    # --- Update through RMSporop ---#\n",
    "        \n",
    "    \n",
    "    Sw_g = [beta*Sw_g[0]+(1-beta)*(dW0_g**2), beta*Sw_g[1]+(1-beta)*(dW1_g**2)]\n",
    "    Sb_g = [beta*Sb_g[0]+(1-beta)*(db0_g**2), beta*Sb_g[1]+(1-beta)*(db1_g**2)]\n",
    "        \n",
    "    Sw_g_track.append(Sw_g)\n",
    "    Sb_g_track.append(Sb_g)\n",
    "        \n",
    "    W_g = [W_g[0] - (lr * dW0_g)/(np.sqrt(Sw_g[0]+1e-8)), W_g[1] - (lr * dW1_g)/(np.sqrt(Sw_g[1]+1e-8))]\n",
    "    b_g = [b_g[0] - (lr * db0_g)/(np.sqrt(Sb_g[0]+1e-8)), b_g[1] - (lr * db1_g)/(np.sqrt(Sb_g[1]+1e-8))]\n",
    "    \n",
    "    \n",
    "    \n",
    "     \n",
    "        \n",
    "    if epoch%10 == 1:\n",
    "        W_d_track.append(W_d)\n",
    "        b_d_track.append(b_d)\n",
    "        W_g_track.append(W_g)\n",
    "        b_g_track.append(b_g)\n",
    "        x_fake_track.append(x_fake)\n",
    "        \n",
    "        dW_track.append(dW1)\n",
    "        \n",
    "        \n",
    "    # reduce learning rate after every epoch\n",
    "    lr = lr * (1.0 / (1.0 + dr * epoch))\n"
   ]
  },
  {
   "cell_type": "code",
   "execution_count": 20,
   "metadata": {},
   "outputs": [
    {
     "data": {
      "image/png": "[encoded data removed]",
      "text/plain": [
       "<Figure size 432x288 with 1 Axes>"
      ]
     },
     "metadata": {
      "needs_background": "light"
     },
     "output_type": "display_data"
    }
   ],
   "source": [
    "#z = np.random.normal(0, 1, size=[1000, 1])\n",
    "z = np.random.uniform(0,1, (m, nx_g))\n",
    "gen_samples, gen_samplesN = forward_generator(z, W_g, b_g)\n",
    "\n",
    "#plt.hist(datasetN, bins = 'auto', alpha=0.5, label='Real')\n",
    "plt.hist(dataset, bins = 'auto', alpha=0.5, label='Real')\n",
    "plt.hist(gen_samplesN[-1], bins = 'auto', alpha=0.5, label='Generated')\n",
    "plt.legend(loc='upper right')\n",
    "plt.show()"
   ]
  },
  {
   "cell_type": "code",
   "execution_count": 102,
   "metadata": {},
   "outputs": [
    {
     "data": {
      "text/plain": [
       "[<matplotlib.lines.Line2D at 0x7f3e9d6e4128>]"
      ]
     },
     "execution_count": 102,
     "metadata": {},
     "output_type": "execute_result"
    },
    {
     "data": {
      "image/png": "[encoded data removed]",
      "text/plain": [
       "<Figure size 432x288 with 1 Axes>"
      ]
     },
     "metadata": {
      "needs_background": "light"
     },
     "output_type": "display_data"
    }
   ],
   "source": [
    "x = np.arange(0.,1.,0.01)\n",
    "X = np.reshape(x,(len(x),1))\n",
    "plt.plot(x, forward_discriminator(X, W_d, b_d)[-1][-1])"
   ]
  },
  {
   "cell_type": "code",
   "execution_count": 103,
   "metadata": {},
   "outputs": [
    {
     "data": {
      "image/png": "[encoded data removed]",
      "text/plain": [
       "<Figure size 432x288 with 1 Axes>"
      ]
     },
     "metadata": {
      "needs_background": "light"
     },
     "output_type": "display_data"
    }
   ],
   "source": [
    "plt.plot(J_Ds, 'b', label='Discriminators loss')\n",
    "plt.plot(EM_dist, 'r', label = 'W(x_real || x_fake)')\n",
    "#plt.plot(J_Gs[0:600], 'r', label = 'Generators loss')\n",
    "plt.legend()\n",
    "plt.show()"
   ]
  },
  {
   "cell_type": "code",
   "execution_count": 32,
   "metadata": {},
   "outputs": [
    {
     "data": {
      "text/plain": [
       "[<matplotlib.lines.Line2D at 0x7f3ea09af208>]"
      ]
     },
     "execution_count": 32,
     "metadata": {},
     "output_type": "execute_result"
    },
    {
     "data": {
      "image/png": "[encoded data removed]",
      "text/plain": [
       "<Figure size 432x288 with 1 Axes>"
      ]
     },
     "metadata": {
      "needs_background": "light"
     },
     "output_type": "display_data"
    }
   ],
   "source": [
    "plt.plot(EM_dist)"
   ]
  },
  {
   "cell_type": "code",
   "execution_count": null,
   "metadata": {},
   "outputs": [],
   "source": []
  }
 ],
 "metadata": {
  "kernelspec": {
   "display_name": "Python 3",
   "language": "python",
   "name": "python3"
  },
  "language_info": {
   "codemirror_mode": {
    "name": "ipython",
    "version": 3
   },
   "file_extension": ".py",
   "mimetype": "text/x-python",
   "name": "python",
   "nbconvert_exporter": "python",
   "pygments_lexer": "ipython3",
   "version": "3.7.3"
  }
 },
 "nbformat": 4,
 "nbformat_minor": 2
}
