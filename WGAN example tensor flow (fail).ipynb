{
 "cells": [
  {
   "cell_type": "code",
   "execution_count": 1,
   "metadata": {},
   "outputs": [
    {
     "name": "stdout",
     "output_type": "stream",
     "text": [
      "WARNING:tensorflow:From /home/carolina/anaconda3/lib/python3.7/site-packages/tensorflow/python/compat/v2_compat.py:96: disable_resource_variables (from tensorflow.python.ops.variable_scope) is deprecated and will be removed in a future version.\n",
      "Instructions for updating:\n",
      "non-resource variables are not supported in the long term\n"
     ]
    }
   ],
   "source": [
    "import os\n",
    "import uuid\n",
    "import yaml\n",
    "\n",
    "import numpy as np\n",
    "#import tensorflow as tf\n",
    "import random\n",
    "import matplotlib.pyplot as plt\n",
    "from scipy.stats import wasserstein_distance\n",
    "\n",
    "import tensorflow.compat.v1 as tf\n",
    "tf.disable_v2_behavior() "
   ]
  },
  {
   "cell_type": "code",
   "execution_count": 16,
   "metadata": {},
   "outputs": [],
   "source": [
    "#Data Generation\n",
    "\n",
    "m = 3000\n",
    "\n",
    "#======= BETA =======#\n",
    "#datarray = np.random.beta(0.5,0.5, m).astype(np.float32)\n",
    "\n",
    "#======= NORMAL =======#\n",
    "#datarray = np.random.normal(10,1, m).astype(np.float32)\n",
    "\n",
    "#======= MULTINORMAL =======#\n",
    "cluster1 = np.random.normal(0,1, size=[2*m//3,1])\n",
    "cluster2 = np.random.normal(5,1, size=[m//3,1])\n",
    "datarray = np.concatenate((cluster1,cluster2))\n"
   ]
  },
  {
   "cell_type": "code",
   "execution_count": 17,
   "metadata": {},
   "outputs": [
    {
     "data": {
      "image/png": "[encoded data removed]",
      "text/plain": [
       "<Figure size 432x288 with 1 Axes>"
      ]
     },
     "metadata": {
      "needs_background": "light"
     },
     "output_type": "display_data"
    }
   ],
   "source": [
    "plt.hist(datarray, bins='auto')\n",
    "plt.show()"
   ]
  },
  {
   "cell_type": "code",
   "execution_count": 18,
   "metadata": {},
   "outputs": [
    {
     "data": {
      "image/png": "[encoded data removed]",
      "text/plain": [
       "<Figure size 432x288 with 1 Axes>"
      ]
     },
     "metadata": {
      "needs_background": "light"
     },
     "output_type": "display_data"
    }
   ],
   "source": [
    "#Normalized Data visualization\n",
    "\n",
    "def MinMaxN(X):\n",
    "    return (X-np.min(X))/(np.max(X)-np.min(X) + 1e-8)\n",
    "\n",
    "plt.hist(MinMaxN(datarray), bins='auto', label='Real data normalized')\n",
    "plt.legend(loc='upper right')\n",
    "plt.show()"
   ]
  },
  {
   "cell_type": "code",
   "execution_count": 6,
   "metadata": {},
   "outputs": [],
   "source": [
    "def xavier_init(size):\n",
    "    in_dim = size[0]\n",
    "    xavier_stddev = 1. / tf.sqrt(in_dim / 2.)\n",
    "    return tf.random.normal(shape=size, stddev=xavier_stddev)"
   ]
  },
  {
   "cell_type": "code",
   "execution_count": 7,
   "metadata": {},
   "outputs": [],
   "source": [
    "X_dim = 1 #real sample size\n",
    "z_dim = 15 #noise sample size (generator input)\n",
    "h_dim = 50 #hidden layers size\n",
    "\n",
    "#----# INITIALITE PARAMETERS #----#\n",
    "\n",
    "#X = tf.placeholder(tf.float32, shape=[X_dim,1])\n",
    "X = tf.placeholder(tf.float32, shape=[None, X_dim])\n",
    "\n",
    "D_W1 = tf.Variable(xavier_init([X_dim, h_dim]))\n",
    "D_b1 = tf.Variable(tf.zeros(shape=[h_dim]))\n",
    "\n",
    "D_W2 = tf.Variable(xavier_init([h_dim, 1]))\n",
    "D_b2 = tf.Variable(tf.zeros(shape=[1]))\n",
    "\n",
    "theta_D = [D_W1, D_W2, D_b1, D_b2]\n",
    "\n",
    "\n",
    "#z = tf.placeholder(tf.float32, shape=[z_dim,1])\n",
    "z = tf.placeholder(tf.float32, shape=[None, z_dim])\n",
    "\n",
    "G_W1 = tf.Variable(xavier_init([z_dim, h_dim]))\n",
    "G_b1 = tf.Variable(tf.zeros(shape=[h_dim]))\n",
    "\n",
    "G_W2 = tf.Variable(xavier_init([h_dim, X_dim]))\n",
    "G_b2 = tf.Variable(tf.zeros(shape=[X_dim]))\n",
    "\n",
    "theta_G = [G_W1, G_W2, G_b1, G_b2]"
   ]
  },
  {
   "cell_type": "code",
   "execution_count": 8,
   "metadata": {},
   "outputs": [],
   "source": [
    "def sample_z(m, n):\n",
    "    return np.random.uniform(-1., 1., size=[m, n])\n",
    "\n",
    "\n",
    "def generator(z):\n",
    "    G_h1 = tf.nn.relu(tf.matmul(z, G_W1) + G_b1)\n",
    "    #G_log_prob = tf.matmul(G_h1, G_W2) + G_b2\n",
    "    #G_prob = tf.nn.sigmoid(G_log_prob)\n",
    "    G_prob = tf.matmul(G_h1, G_W2) + G_b2\n",
    "    return G_prob\n",
    "\n",
    "\n",
    "def discriminator(x):\n",
    "    D_h1 = tf.nn.relu(tf.matmul(x, D_W1) + D_b1)\n",
    "    out = tf.matmul(D_h1, D_W2) + D_b2\n",
    "    return out"
   ]
  },
  {
   "cell_type": "code",
   "execution_count": 9,
   "metadata": {},
   "outputs": [],
   "source": [
    "def preprocess_data(x, batch_size):\n",
    "     \n",
    "    \n",
    "    x_train = np.reshape(x, (len(x),))\n",
    "    #x_train = MinMaxN(x_train)\n",
    "\n",
    "    # limit the data to full batches only\n",
    "    num_batches = x_train.shape[0] // batch_size\n",
    "    x_train = x_train[: num_batches * batch_size]\n",
    "    #x_train = MinMaxN(x_train)\n",
    "\n",
    "    # normalise the data to the range [-1,1] = [a,b]\n",
    "    # X' = a + (b-a)(X-Xmin)/(Xmax-Xmin)\n",
    "    #x_train = -1+2*(x_train-x_train.min())/(x_train.max()-x_train.min())\n",
    "\n",
    "    # shuffle the data\n",
    "    idx = np.random.permutation(len(x_train))\n",
    "    x_train = x_train[idx]\n",
    "    return x_train, num_batches\n"
   ]
  },
  {
   "cell_type": "code",
   "execution_count": 10,
   "metadata": {},
   "outputs": [],
   "source": [
    "def shuffle_data(x_train):\n",
    "    idx = np.random.permutation(len(x_train))\n",
    "    x_train = x_train[idx]\n",
    "    return x_train"
   ]
  },
  {
   "cell_type": "code",
   "execution_count": 19,
   "metadata": {},
   "outputs": [],
   "source": [
    "lr = 1e-3\n",
    "c_clip = 0.01\n",
    "\n",
    "G_sample = generator(z)\n",
    "D_real = discriminator(X)\n",
    "D_fake = discriminator(G_sample)\n",
    "\n",
    "D_loss = tf.reduce_mean(D_real) - tf.reduce_mean(D_fake)\n",
    "G_loss = -tf.reduce_mean(D_fake)\n",
    "\n",
    "D_solver = (tf.train.RMSPropOptimizer(learning_rate=lr)\n",
    "            .minimize(-D_loss, var_list=theta_D))\n",
    "G_solver = (tf.train.RMSPropOptimizer(learning_rate=lr)\n",
    "            .minimize(G_loss, var_list=theta_G))\n",
    "\n",
    "clip_D = [p.assign(tf.clip_by_value(p, -c_clip, c_clip)) for p in theta_D]\n",
    "\n",
    "sess = tf.Session()\n",
    "sess.run(tf.initialize_all_variables())"
   ]
  },
  {
   "cell_type": "code",
   "execution_count": 20,
   "metadata": {},
   "outputs": [
    {
     "name": "stdout",
     "output_type": "stream",
     "text": [
      "Iter: 0; D loss: -0.0007786; G_loss: 0.0001089\n"
     ]
    },
    {
     "data": {
      "image/png": "[encoded data removed]",
      "text/plain": [
       "<Figure size 432x288 with 1 Axes>"
      ]
     },
     "metadata": {
      "needs_background": "light"
     },
     "output_type": "display_data"
    },
    {
     "name": "stdout",
     "output_type": "stream",
     "text": [
      "Iter: 100; D loss: 0.003947; G_loss: 0.001011\n"
     ]
    },
    {
     "data": {
      "image/png": "[encoded data removed]",
      "text/plain": [
       "<Figure size 432x288 with 1 Axes>"
      ]
     },
     "metadata": {
      "needs_background": "light"
     },
     "output_type": "display_data"
    },
    {
     "name": "stdout",
     "output_type": "stream",
     "text": [
      "Iter: 200; D loss: 0.002285; G_loss: 1.904e-05\n"
     ]
    },
    {
     "data": {
      "image/png": "[encoded data removed]",
      "text/plain": [
       "<Figure size 432x288 with 1 Axes>"
      ]
     },
     "metadata": {
      "needs_background": "light"
     },
     "output_type": "display_data"
    },
    {
     "name": "stdout",
     "output_type": "stream",
     "text": [
      "Iter: 300; D loss: 0.00101; G_loss: 0.00165\n"
     ]
    },
    {
     "data": {
      "image/png": "[encoded data removed]",
      "text/plain": [
       "<Figure size 432x288 with 1 Axes>"
      ]
     },
     "metadata": {
      "needs_background": "light"
     },
     "output_type": "display_data"
    },
    {
     "name": "stdout",
     "output_type": "stream",
     "text": [
      "Iter: 400; D loss: 0.0002031; G_loss: 0.0002043\n"
     ]
    },
    {
     "data": {
      "image/png": "[encoded data removed]",
      "text/plain": [
       "<Figure size 432x288 with 1 Axes>"
      ]
     },
     "metadata": {
      "needs_background": "light"
     },
     "output_type": "display_data"
    },
    {
     "name": "stdout",
     "output_type": "stream",
     "text": [
      "Iter: 500; D loss: 0.0001627; G_loss: -0.001164\n"
     ]
    },
    {
     "data": {
      "image/png": "[encoded data removed]",
      "text/plain": [
       "<Figure size 432x288 with 1 Axes>"
      ]
     },
     "metadata": {
      "needs_background": "light"
     },
     "output_type": "display_data"
    },
    {
     "name": "stdout",
     "output_type": "stream",
     "text": [
      "Iter: 600; D loss: 5.012e-06; G_loss: -0.00091\n"
     ]
    },
    {
     "data": {
      "image/png": "[encoded data removed]",
      "text/plain": [
       "<Figure size 432x288 with 1 Axes>"
      ]
     },
     "metadata": {
      "needs_background": "light"
     },
     "output_type": "display_data"
    },
    {
     "name": "stdout",
     "output_type": "stream",
     "text": [
      "Iter: 700; D loss: -8.756e-05; G_loss: -0.000916\n"
     ]
    },
    {
     "data": {
      "image/png": "[encoded data removed]",
      "text/plain": [
       "<Figure size 432x288 with 1 Axes>"
      ]
     },
     "metadata": {
      "needs_background": "light"
     },
     "output_type": "display_data"
    },
    {
     "name": "stdout",
     "output_type": "stream",
     "text": [
      "Iter: 800; D loss: 2.033e-05; G_loss: -0.001135\n"
     ]
    },
    {
     "data": {
      "image/png": "[encoded data removed]",
      "text/plain": [
       "<Figure size 432x288 with 1 Axes>"
      ]
     },
     "metadata": {
      "needs_background": "light"
     },
     "output_type": "display_data"
    },
    {
     "name": "stdout",
     "output_type": "stream",
     "text": [
      "Iter: 900; D loss: 3.489e-05; G_loss: -0.0006856\n"
     ]
    },
    {
     "data": {
      "image/png": "[encoded data removed]",
      "text/plain": [
       "<Figure size 432x288 with 1 Axes>"
      ]
     },
     "metadata": {
      "needs_background": "light"
     },
     "output_type": "display_data"
    },
    {
     "name": "stdout",
     "output_type": "stream",
     "text": [
      "Iter: 1000; D loss: -6.604e-07; G_loss: -9.293e-07\n"
     ]
    },
    {
     "data": {
      "image/png": "[encoded data removed]",
      "text/plain": [
       "<Figure size 432x288 with 1 Axes>"
      ]
     },
     "metadata": {
      "needs_background": "light"
     },
     "output_type": "display_data"
    },
    {
     "name": "stdout",
     "output_type": "stream",
     "text": [
      "Iter: 1100; D loss: 0.0; G_loss: -0.0\n"
     ]
    },
    {
     "data": {
      "image/png": "[encoded data removed]",
      "text/plain": [
       "<Figure size 432x288 with 1 Axes>"
      ]
     },
     "metadata": {
      "needs_background": "light"
     },
     "output_type": "display_data"
    },
    {
     "name": "stdout",
     "output_type": "stream",
     "text": [
      "Iter: 1200; D loss: 0.0; G_loss: -0.0\n"
     ]
    },
    {
     "data": {
      "image/png": "[encoded data removed]",
      "text/plain": [
       "<Figure size 432x288 with 1 Axes>"
      ]
     },
     "metadata": {
      "needs_background": "light"
     },
     "output_type": "display_data"
    },
    {
     "name": "stdout",
     "output_type": "stream",
     "text": [
      "Iter: 1300; D loss: 0.0; G_loss: -0.0\n"
     ]
    },
    {
     "data": {
      "image/png": "[encoded data removed]",
      "text/plain": [
       "<Figure size 432x288 with 1 Axes>"
      ]
     },
     "metadata": {
      "needs_background": "light"
     },
     "output_type": "display_data"
    },
    {
     "name": "stdout",
     "output_type": "stream",
     "text": [
      "Iter: 1400; D loss: 0.0; G_loss: -0.0\n"
     ]
    },
    {
     "data": {
      "image/png": "[encoded data removed]",
      "text/plain": [
       "<Figure size 432x288 with 1 Axes>"
      ]
     },
     "metadata": {
      "needs_background": "light"
     },
     "output_type": "display_data"
    },
    {
     "name": "stdout",
     "output_type": "stream",
     "text": [
      "Iter: 1500; D loss: 0.0; G_loss: -0.0\n"
     ]
    },
    {
     "data": {
      "image/png": "[encoded data removed]",
      "text/plain": [
       "<Figure size 432x288 with 1 Axes>"
      ]
     },
     "metadata": {
      "needs_background": "light"
     },
     "output_type": "display_data"
    },
    {
     "name": "stdout",
     "output_type": "stream",
     "text": [
      "Iter: 1600; D loss: 0.0; G_loss: -0.0\n"
     ]
    },
    {
     "data": {
      "image/png": "[encoded data removed]",
      "text/plain": [
       "<Figure size 432x288 with 1 Axes>"
      ]
     },
     "metadata": {
      "needs_background": "light"
     },
     "output_type": "display_data"
    },
    {
     "name": "stdout",
     "output_type": "stream",
     "text": [
      "Iter: 1700; D loss: 0.0; G_loss: -0.0\n"
     ]
    },
    {
     "data": {
      "image/png": "[encoded data removed]",
      "text/plain": [
       "<Figure size 432x288 with 1 Axes>"
      ]
     },
     "metadata": {
      "needs_background": "light"
     },
     "output_type": "display_data"
    },
    {
     "name": "stdout",
     "output_type": "stream",
     "text": [
      "Iter: 1800; D loss: 0.0; G_loss: -0.0\n"
     ]
    },
    {
     "data": {
      "image/png": "[encoded data removed]",
      "text/plain": [
       "<Figure size 432x288 with 1 Axes>"
      ]
     },
     "metadata": {
      "needs_background": "light"
     },
     "output_type": "display_data"
    },
    {
     "name": "stdout",
     "output_type": "stream",
     "text": [
      "Iter: 1900; D loss: 0.0; G_loss: -0.0\n"
     ]
    },
    {
     "data": {
      "image/png": "[encoded data removed]",
      "text/plain": [
       "<Figure size 432x288 with 1 Axes>"
      ]
     },
     "metadata": {
      "needs_background": "light"
     },
     "output_type": "display_data"
    }
   ],
   "source": [
    "\n",
    "loss_batch = []\n",
    "n_epochs = 2000\n",
    "n_critic = 5\n",
    "mb_size = 100\n",
    "\n",
    "J_Ds = []  # stores the disciminator losses\n",
    "J_Gs = []  # stores the generator losses\n",
    "EM_dist = []\n",
    "\n",
    "#preprocess input\n",
    "x_train, num_batches = preprocess_data(datarray, mb_size)\n",
    "\n",
    "for epoch in range(n_epochs):\n",
    "    \n",
    "    if epoch%(num_batches//n_critic)==0:\n",
    "        x_train = shuffle_data(x_train)\n",
    "        \n",
    "    for n in range(n_critic):\n",
    "        i = n + (epoch%(num_batches//n_critic))*n_critic\n",
    "        X_mb = x_train[i * mb_size: (i + 1) * mb_size]\n",
    "        #rand_index = np.random.choice(m, size = mb_size, replace = False)\n",
    "        #X_mb = datarray[rand_index]\n",
    "        X_mb = np.array(X_mb).reshape(mb_size,-1)\n",
    "        #X_mb, _ = dataset.train.next_batch(mb_size)\n",
    "        \n",
    "        _, D_loss_curr, _ = sess.run(\n",
    "            [D_solver, D_loss, clip_D],\n",
    "            feed_dict={X: X_mb, z: sample_z(mb_size, z_dim)}\n",
    "        )\n",
    "\n",
    "    _, G_loss_curr = sess.run(\n",
    "        [G_solver, G_loss],\n",
    "        feed_dict={z: sample_z(mb_size, z_dim)}\n",
    "    )\n",
    "    \n",
    "    #J_Ds.append(D_loss_curr)\n",
    "    #J_Gs.append(G_loss_curr)\n",
    "    \n",
    "\n",
    "    \n",
    "    if epoch % 100 == 0:\n",
    "        print('Iter: {}; D loss: {:.4}; G_loss: {:.4}'\n",
    "              .format(epoch, D_loss_curr, G_loss_curr))\n",
    "        \n",
    "        samples = sess.run(G_sample, feed_dict={z: sample_z(len(x_train), z_dim)})\n",
    "\n",
    "        plt.hist(datarray, alpha = 0.5, label = 'Real Distribution')\n",
    "        plt.hist(samples, alpha = 0.5, label = 'Generated Samples - epoch ' + str(epoch) )\n",
    "        plt.legend()\n",
    "        plt.show()\n",
    "        \n",
    "        EM_dist.append(wasserstein_distance(x_train, np.reshape(samples, x_train.shape)))\n",
    "        J_Ds.append(D_loss_curr)\n",
    "        J_Gs.append(G_loss_curr)\n",
    "    "
   ]
  },
  {
   "cell_type": "code",
   "execution_count": 124,
   "metadata": {},
   "outputs": [
    {
     "data": {
      "image/png": "[encoded data removed]",
      "text/plain": [
       "<Figure size 432x288 with 1 Axes>"
      ]
     },
     "metadata": {
      "needs_background": "light"
     },
     "output_type": "display_data"
    }
   ],
   "source": [
    "samples = sess.run(G_sample, feed_dict={z: sample_z(len(x_train), z_dim)})\n",
    "\n",
    "plt.hist(MinMaxN(datarray), alpha = 0.5, label = 'Real Distribution')\n",
    "plt.hist(samples, alpha = 0.5, label = 'Generated Samples - epoch ' + str(epoch) )\n",
    "plt.legend()\n",
    "plt.show()"
   ]
  },
  {
   "cell_type": "code",
   "execution_count": 15,
   "metadata": {},
   "outputs": [
    {
     "data": {
      "image/png": "[encoded data removed]",
      "text/plain": [
       "<Figure size 432x288 with 1 Axes>"
      ]
     },
     "metadata": {
      "needs_background": "light"
     },
     "output_type": "display_data"
    }
   ],
   "source": [
    "plt.plot(J_Ds, 'b', label='Discriminators loss')\n",
    "plt.plot(EM_dist, 'r', label = 'W(x_real || x_fake)')\n",
    "#plt.plot(J_Gs[0:600], 'r', label = 'Generators loss')\n",
    "plt.legend()\n",
    "plt.show()"
   ]
  },
  {
   "cell_type": "code",
   "execution_count": 102,
   "metadata": {},
   "outputs": [
    {
     "data": {
      "image/png": "[encoded data removed]",
      "text/plain": [
       "<Figure size 432x288 with 1 Axes>"
      ]
     },
     "metadata": {
      "needs_background": "light"
     },
     "output_type": "display_data"
    }
   ],
   "source": [
    "plt.plot(J_Ds, 'b', label='Discriminators loss')\n",
    "#plt.plot(EM_dist, 'r', label = 'W(x_real || x_fake)')\n",
    "#plt.plot(J_Gs, 'r', label = 'Generators loss')\n",
    "plt.legend()\n",
    "plt.show()"
   ]
  },
  {
   "cell_type": "code",
   "execution_count": 100,
   "metadata": {},
   "outputs": [
    {
     "data": {
      "text/plain": [
       "[<matplotlib.lines.Line2D at 0x7fa4e9686208>]"
      ]
     },
     "execution_count": 100,
     "metadata": {},
     "output_type": "execute_result"
    },
    {
     "data": {
      "image/png": "[encoded data removed]",
      "text/plain": [
       "<Figure size 432x288 with 1 Axes>"
      ]
     },
     "metadata": {
      "needs_background": "light"
     },
     "output_type": "display_data"
    }
   ],
   "source": [
    "inp = np.random.uniform(0., 1., size=[m, 1])\n",
    "plot_D = sess.run(D_real, feed_dict={X: inp})\n",
    "plt.plot(inp, plot_D, 'o')"
   ]
  },
  {
   "cell_type": "code",
   "execution_count": 93,
   "metadata": {},
   "outputs": [
    {
     "data": {
      "text/plain": [
       "array([[0.000000e+00],\n",
       "       [7.298624e-05],\n",
       "       [0.000000e+00],\n",
       "       ...,\n",
       "       [0.000000e+00],\n",
       "       [0.000000e+00],\n",
       "       [0.000000e+00]], dtype=float32)"
      ]
     },
     "execution_count": 93,
     "metadata": {},
     "output_type": "execute_result"
    }
   ],
   "source": [
    "sess.run(D_real, feed_dict={X: np.random.uniform(0., 1., size=[m, 1])})"
   ]
  },
  {
   "cell_type": "code",
   "execution_count": null,
   "metadata": {},
   "outputs": [],
   "source": [
    "obje = np.arange(0.,1.,0.01)\n",
    "X = np.reshape(x,(len(x),1))\n",
    "plt.plot(x, forward_discriminator(X, W_d, b_d)[-1][-1])"
   ]
  },
  {
   "cell_type": "code",
   "execution_count": 72,
   "metadata": {},
   "outputs": [],
   "source": [
    "def maxi (seq):\n",
    "    sup = seq[0]\n",
    "    for i in range(len(seq)):\n",
    "        if seq[i]  >= sup:\n",
    "            sup = seq[i]\n",
    "            index = i\n",
    "    return sup, index\n",
    "\n",
    "def minim_k(k, seq):\n",
    "    \n",
    "    out = [seq[0]]\n",
    "    for i in seq[1:]:\n",
    "        if len(out) < k and i not in set(out):\n",
    "            out.append(i)\n",
    "        else:\n",
    "            sup, index = maxi(out)\n",
    "            if i <= sup and i not in set(out):\n",
    "                out[index] = i\n",
    "    \n",
    "    if len(set(out))!= k:\n",
    "        out = 'Null'\n",
    "        \n",
    "    return out"
   ]
  },
  {
   "cell_type": "code",
   "execution_count": 78,
   "metadata": {},
   "outputs": [
    {
     "name": "stdout",
     "output_type": "stream",
     "text": [
      "K:2\n",
      "Sequence (in the format 1,2,3,...):0,5,2,2\n"
     ]
    },
    {
     "data": {
      "text/plain": [
       "[0, 2]"
      ]
     },
     "execution_count": 78,
     "metadata": {},
     "output_type": "execute_result"
    }
   ],
   "source": [
    "k = int(input('K:'))\n",
    "seq = input('Sequence (in the format 1,2,3,...):')\n",
    "seq = [int(i) for i in seq.split(',')]\n",
    "minim_k(k,seq)"
   ]
  },
  {
   "cell_type": "code",
   "execution_count": 23,
   "metadata": {},
   "outputs": [],
   "source": [
    "def sort(l):\n",
    "    out = [l[0]]\n",
    "    for i in l[1:]:\n",
    "        j = 0\n",
    "        while j < len(out) and i > out[j]:\n",
    "            j+=1\n",
    "        out.insert(j, i)\n",
    "    return out"
   ]
  },
  {
   "cell_type": "code",
   "execution_count": 37,
   "metadata": {},
   "outputs": [
    {
     "data": {
      "text/plain": [
       "[2, 2, 2, 3, 3, 3, 4, 5, 6]"
      ]
     },
     "execution_count": 37,
     "metadata": {},
     "output_type": "execute_result"
    }
   ],
   "source": [
    "sort([2,3,3,3,5,2,2,4,6])"
   ]
  },
  {
   "cell_type": "code",
   "execution_count": 48,
   "metadata": {},
   "outputs": [],
   "source": [
    "def minim_k2(seq, k):\n",
    "    seq = sort(seq)\n",
    "    if len(set(seq)) < k:\n",
    "        out = 'Null'\n",
    "    else:\n",
    "        count = 1\n",
    "        i = 0\n",
    "        j = seq[0]\n",
    "        while count < k:\n",
    "            i+=1\n",
    "            if seq[i] > j:\n",
    "                count += 1\n",
    "                j = seq[i]\n",
    "        out = j\n",
    "    return out           \n",
    "        "
   ]
  },
  {
   "cell_type": "code",
   "execution_count": 49,
   "metadata": {},
   "outputs": [
    {
     "data": {
      "text/plain": [
       "4"
      ]
     },
     "execution_count": 49,
     "metadata": {},
     "output_type": "execute_result"
    }
   ],
   "source": [
    "minim_k2([2,3,3,3,5,4,5,2,2,4,6],3)"
   ]
  },
  {
   "cell_type": "code",
   "execution_count": 55,
   "metadata": {},
   "outputs": [],
   "source": [
    "def list2set(l):\n",
    "    out = [l[0]]\n",
    "    for i in l[1:]:\n",
    "        if i not in out:\n",
    "            out.append(i)\n",
    "    return out"
   ]
  },
  {
   "cell_type": "code",
   "execution_count": 56,
   "metadata": {},
   "outputs": [
    {
     "data": {
      "text/plain": [
       "[2, 3, 5, 4, 6]"
      ]
     },
     "execution_count": 56,
     "metadata": {},
     "output_type": "execute_result"
    }
   ],
   "source": [
    "list2set([2,3,3,3,5,4,5,2,2,4,6])"
   ]
  },
  {
   "cell_type": "code",
   "execution_count": 67,
   "metadata": {},
   "outputs": [],
   "source": [
    "def minim_k3(seq,k):\n",
    "    seq = sort(list2set(seq))\n",
    "    if len(seq) < k:\n",
    "        out = 'Null'\n",
    "    else:\n",
    "        out = seq[k-1]\n",
    "    return out"
   ]
  },
  {
   "cell_type": "code",
   "execution_count": 68,
   "metadata": {},
   "outputs": [
    {
     "data": {
      "text/plain": [
       "'Null'"
      ]
     },
     "execution_count": 68,
     "metadata": {},
     "output_type": "execute_result"
    }
   ],
   "source": [
    "minim_k3([2,3,3,3],3)"
   ]
  },
  {
   "cell_type": "code",
   "execution_count": 75,
   "metadata": {},
   "outputs": [],
   "source": [
    "def evenQ(n):\n",
    "    return n%2 == 0"
   ]
  },
  {
   "cell_type": "code",
   "execution_count": 100,
   "metadata": {},
   "outputs": [],
   "source": [
    "def EvenOdd(seq):\n",
    "    out = str(seq[0])\n",
    "    for i in range(1,len(seq)):\n",
    "        if evenQ(seq[i-1]+seq[i]):\n",
    "            out += str(seq[i]%2 * '-' + abs(seq[i]%2-1) * '*' )\n",
    "        out += str(seq[i])\n",
    "    return out"
   ]
  },
  {
   "cell_type": "code",
   "execution_count": 103,
   "metadata": {},
   "outputs": [
    {
     "data": {
      "text/plain": [
       "'214*6*2*67-5-7-56'"
      ]
     },
     "execution_count": 103,
     "metadata": {},
     "output_type": "execute_result"
    }
   ],
   "source": [
    "EvenOdd([2,1,4,6,2,6,7,5,7,5,6])"
   ]
  },
  {
   "cell_type": "code",
   "execution_count": 126,
   "metadata": {},
   "outputs": [
    {
     "data": {
      "text/plain": [
       "['.', '.', '#', '.']"
      ]
     },
     "execution_count": 126,
     "metadata": {},
     "output_type": "execute_result"
    }
   ],
   "source": [
    "lol = '..#.'\n",
    "[i for i in lol]"
   ]
  },
  {
   "cell_type": "code",
   "execution_count": 108,
   "metadata": {},
   "outputs": [
    {
     "data": {
      "text/plain": [
       "[[6], [8]]"
      ]
     },
     "execution_count": 108,
     "metadata": {},
     "output_type": "execute_result"
    }
   ],
   "source": [
    "[]+[[6]]+[[8]]"
   ]
  },
  {
   "cell_type": "code",
   "execution_count": 113,
   "metadata": {},
   "outputs": [
    {
     "data": {
      "text/plain": [
       "4"
      ]
     },
     "execution_count": 113,
     "metadata": {},
     "output_type": "execute_result"
    }
   ],
   "source": [
    "lst=[0,0,0,0,1,0]\n",
    "next(x for x in range(len(lst)) if lst[x] == 1)"
   ]
  },
  {
   "cell_type": "code",
   "execution_count": 115,
   "metadata": {},
   "outputs": [
    {
     "data": {
      "text/plain": [
       "5"
      ]
     },
     "execution_count": 115,
     "metadata": {},
     "output_type": "execute_result"
    }
   ],
   "source": [
    "5*True"
   ]
  },
  {
   "cell_type": "code",
   "execution_count": 116,
   "metadata": {},
   "outputs": [],
   "source": [
    "lst.append(5*False)"
   ]
  },
  {
   "cell_type": "code",
   "execution_count": 117,
   "metadata": {},
   "outputs": [
    {
     "data": {
      "text/plain": [
       "[0, 0, 0, 0, 1, 0, 0]"
      ]
     },
     "execution_count": 117,
     "metadata": {},
     "output_type": "execute_result"
    }
   ],
   "source": [
    "lst"
   ]
  },
  {
   "cell_type": "code",
   "execution_count": 118,
   "metadata": {},
   "outputs": [
    {
     "data": {
      "text/plain": [
       "[1, 1]"
      ]
     },
     "execution_count": 118,
     "metadata": {},
     "output_type": "execute_result"
    }
   ],
   "source": [
    "[1]+[1]"
   ]
  },
  {
   "cell_type": "code",
   "execution_count": 120,
   "metadata": {},
   "outputs": [
    {
     "ename": "SyntaxError",
     "evalue": "invalid syntax (<ipython-input-120-e992d2247b5a>, line 1)",
     "output_type": "error",
     "traceback": [
      "\u001b[0;36m  File \u001b[0;32m\"<ipython-input-120-e992d2247b5a>\"\u001b[0;36m, line \u001b[0;32m1\u001b[0m\n\u001b[0;31m    next((0) if lst[0]==0)\u001b[0m\n\u001b[0m                         ^\u001b[0m\n\u001b[0;31mSyntaxError\u001b[0m\u001b[0;31m:\u001b[0m invalid syntax\n"
     ]
    }
   ],
   "source": [
    "next((0) if lst[0]==0)"
   ]
  },
  {
   "cell_type": "code",
   "execution_count": 121,
   "metadata": {},
   "outputs": [],
   "source": [
    "lst.append((1,2))"
   ]
  },
  {
   "cell_type": "code",
   "execution_count": 122,
   "metadata": {},
   "outputs": [
    {
     "data": {
      "text/plain": [
       "[0, 0, 0, 0, 1, 0, 0, (1, 2)]"
      ]
     },
     "execution_count": 122,
     "metadata": {},
     "output_type": "execute_result"
    }
   ],
   "source": [
    "lst"
   ]
  },
  {
   "cell_type": "code",
   "execution_count": 123,
   "metadata": {},
   "outputs": [],
   "source": [
    "a, b = (1,0)"
   ]
  },
  {
   "cell_type": "code",
   "execution_count": 124,
   "metadata": {},
   "outputs": [
    {
     "data": {
      "text/plain": [
       "1"
      ]
     },
     "execution_count": 124,
     "metadata": {},
     "output_type": "execute_result"
    }
   ],
   "source": [
    "a"
   ]
  },
  {
   "cell_type": "code",
   "execution_count": 129,
   "metadata": {},
   "outputs": [
    {
     "name": "stdout",
     "output_type": "stream",
     "text": [
      "\n",
      " o\n",
      "\n",
      " n\n",
      "\n",
      " e\n"
     ]
    }
   ],
   "source": [
    "for i in 'one':\n",
    "    print('\\n', i)"
   ]
  },
  {
   "cell_type": "code",
   "execution_count": 130,
   "metadata": {},
   "outputs": [
    {
     "data": {
      "text/plain": [
       "True"
      ]
     },
     "execution_count": 130,
     "metadata": {},
     "output_type": "execute_result"
    }
   ],
   "source": [
    "'n' in 'one'"
   ]
  },
  {
   "cell_type": "code",
   "execution_count": 132,
   "metadata": {},
   "outputs": [],
   "source": [
    "def checkNumb(s, n):\n",
    "    result = True\n",
    "    for i in n:\n",
    "        result = result * (i in s)\n",
    "    return result"
   ]
  },
  {
   "cell_type": "code",
   "execution_count": 136,
   "metadata": {},
   "outputs": [
    {
     "data": {
      "text/plain": [
       "False"
      ]
     },
     "execution_count": 136,
     "metadata": {},
     "output_type": "execute_result"
    }
   ],
   "source": [
    "checkNumb('aubsnno','one') == True"
   ]
  },
  {
   "cell_type": "code",
   "execution_count": 142,
   "metadata": {},
   "outputs": [],
   "source": [
    "s = 'aeubsnno'"
   ]
  },
  {
   "cell_type": "code",
   "execution_count": 143,
   "metadata": {},
   "outputs": [],
   "source": [
    "def removeNumb(n,s):\n",
    "    for i in n:\n",
    "        s.remove(i)\n",
    "    return s"
   ]
  },
  {
   "cell_type": "code",
   "execution_count": 154,
   "metadata": {},
   "outputs": [
    {
     "data": {
      "text/plain": [
       "1"
      ]
     },
     "execution_count": 154,
     "metadata": {},
     "output_type": "execute_result"
    }
   ],
   "source": [
    "checkNumb('nine',['n','i','n','e'])"
   ]
  },
  {
   "cell_type": "code",
   "execution_count": 148,
   "metadata": {},
   "outputs": [],
   "source": [
    "s = list('oeisowufxrzohgiettr')\n",
    "numbs = []\n",
    "while len(s) >= 3:\n",
    "    if 'w' in s:\n",
    "        s = removeNumb('two',s)\n",
    "        numbs.append(2)\n",
    "    if 'u' in s:\n",
    "        s = removeNumb('four',s)\n",
    "        numbs.append(4)\n",
    "    if 'x' in s:\n",
    "        s = removeNumb('six',s)\n",
    "        numbs.append(6)\n",
    "    if 'v' in s:\n",
    "        s = removeNumb('seven',s)\n",
    "        numbs.append(7)\n",
    "    if 'g' in s:\n",
    "        s = removeNumb('eight',s)\n",
    "        numbs.append(8)\n",
    "    if 'z' in s:\n",
    "        s = removeNumb('zero',s)\n",
    "        numbs.append(0)"
   ]
  },
  {
   "cell_type": "code",
   "execution_count": 149,
   "metadata": {},
   "outputs": [
    {
     "data": {
      "text/plain": [
       "[2, 4, 6, 8, 0]"
      ]
     },
     "execution_count": 149,
     "metadata": {},
     "output_type": "execute_result"
    }
   ],
   "source": [
    "numbs"
   ]
  },
  {
   "cell_type": "code",
   "execution_count": 156,
   "metadata": {},
   "outputs": [],
   "source": [
    "cena = ['oeisowufxrzohgiettr']"
   ]
  },
  {
   "cell_type": "code",
   "execution_count": 159,
   "metadata": {},
   "outputs": [],
   "source": [
    "def checkNumb(n, s):\n",
    "    result = True\n",
    "    if len(s)==0:\n",
    "        result = False\n",
    "    for i in n:\n",
    "        result = result * (i in s)\n",
    "    return result\n",
    "\n",
    "def removeNumb(n,s):\n",
    "    for i in n:\n",
    "        s.remove(i)\n",
    "    return s\n",
    "\n",
    "def sort(l):\n",
    "    out = [l[0]]\n",
    "    for i in l[1:]:\n",
    "        j = 0\n",
    "        while j < len(out) and i > out[j]:\n",
    "            j+=1\n",
    "        out.insert(j, i)\n",
    "    return out\n",
    "\n",
    "for line in cena:\n",
    "    s = list(line)\n",
    "    numbs = []\n",
    "    while 'w' in s or 'u' in s or 'x' in s or 'v' in s or 'g' in s or 'z' in s:\n",
    "        if 'w' in s:\n",
    "            s = removeNumb('two',s)\n",
    "            numbs.append(2)\n",
    "        if 'u' in s:\n",
    "            s = removeNumb('four',s)\n",
    "            numbs.append(4)\n",
    "        if 'x' in s:\n",
    "            s = removeNumb('six',s)\n",
    "            numbs.append(6)\n",
    "        if 'v' in s:\n",
    "            s = removeNumb('seven',s)\n",
    "            numbs.append(7)\n",
    "        if 'g' in s:\n",
    "            s = removeNumb('eight',s)\n",
    "            numbs.append(8)\n",
    "        if 'z' in s:\n",
    "            s = removeNumb('zero',s)\n",
    "            numbs.append(0)\n",
    "    \n",
    "    while 'o' in s or 't' in s or 'f' in s:\n",
    "        if 'o' in s:\n",
    "            s = removeNumb('one',s)\n",
    "            numbs.append(1)\n",
    "        if 't' in s:\n",
    "            s = removeNumb('three',s)\n",
    "            numbs.append(3)\n",
    "        if 'f' in s:\n",
    "            s = removeNumb('five',s)\n",
    "            numbs.append(5)\n",
    "    \n",
    "    while checkNumb('nine', s):\n",
    "        s = removeNumb('one',s)\n",
    "        numbs.append(9)"
   ]
  },
  {
   "cell_type": "code",
   "execution_count": 163,
   "metadata": {},
   "outputs": [
    {
     "data": {
      "text/plain": [
       "'02468'"
      ]
     },
     "execution_count": 163,
     "metadata": {},
     "output_type": "execute_result"
    }
   ],
   "source": [
    "out = ''\n",
    "for i in sort(numbs):\n",
    "    out += str(i)\n",
    "out"
   ]
  },
  {
   "cell_type": "code",
   "execution_count": null,
   "metadata": {},
   "outputs": [],
   "source": []
  }
 ],
 "metadata": {
  "kernelspec": {
   "display_name": "Python 3",
   "language": "python",
   "name": "python3"
  },
  "language_info": {
   "codemirror_mode": {
    "name": "ipython",
    "version": 3
   },
   "file_extension": ".py",
   "mimetype": "text/x-python",
   "name": "python",
   "nbconvert_exporter": "python",
   "pygments_lexer": "ipython3",
   "version": "3.7.3"
  }
 },
 "nbformat": 4,
 "nbformat_minor": 2
}
